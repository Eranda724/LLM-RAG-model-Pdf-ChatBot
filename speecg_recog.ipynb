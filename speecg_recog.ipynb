{
 "cells": [
  {
   "cell_type": "code",
   "execution_count": 20,
   "id": "087cc604",
   "metadata": {},
   "outputs": [
    {
     "name": "stdout",
     "output_type": "stream",
     "text": [
      "Requirement already satisfied: gradio in c:\\users\\erand\\appdata\\local\\programs\\python\\python310\\lib\\site-packages (5.34.1)\n",
      "Requirement already satisfied: librosa in c:\\users\\erand\\appdata\\local\\programs\\python\\python310\\lib\\site-packages (0.11.0)\n",
      "Requirement already satisfied: gTTS in c:\\users\\erand\\appdata\\local\\programs\\python\\python310\\lib\\site-packages (2.5.4)\n",
      "Requirement already satisfied: transformers in c:\\users\\erand\\appdata\\local\\programs\\python\\python310\\lib\\site-packages (4.35.2)\n",
      "Collecting sentencepiece\n",
      "  Downloading sentencepiece-0.2.0-cp310-cp310-win_amd64.whl.metadata (8.3 kB)\n",
      "Requirement already satisfied: aiofiles<25.0,>=22.0 in c:\\users\\erand\\appdata\\local\\programs\\python\\python310\\lib\\site-packages (from gradio) (24.1.0)\n",
      "Requirement already satisfied: anyio<5.0,>=3.0 in c:\\users\\erand\\appdata\\local\\programs\\python\\python310\\lib\\site-packages (from gradio) (4.7.0)\n",
      "Requirement already satisfied: fastapi<1.0,>=0.115.2 in c:\\users\\erand\\appdata\\local\\programs\\python\\python310\\lib\\site-packages (from gradio) (0.115.9)\n",
      "Requirement already satisfied: ffmpy in c:\\users\\erand\\appdata\\local\\programs\\python\\python310\\lib\\site-packages (from gradio) (0.6.0)\n",
      "Requirement already satisfied: gradio-client==1.10.3 in c:\\users\\erand\\appdata\\local\\programs\\python\\python310\\lib\\site-packages (from gradio) (1.10.3)\n",
      "Requirement already satisfied: groovy~=0.1 in c:\\users\\erand\\appdata\\local\\programs\\python\\python310\\lib\\site-packages (from gradio) (0.1.2)\n",
      "Requirement already satisfied: httpx>=0.24.1 in c:\\users\\erand\\appdata\\local\\programs\\python\\python310\\lib\\site-packages (from gradio) (0.28.1)\n",
      "Requirement already satisfied: huggingface-hub>=0.28.1 in c:\\users\\erand\\appdata\\local\\programs\\python\\python310\\lib\\site-packages (from gradio) (0.32.4)\n",
      "Requirement already satisfied: jinja2<4.0 in c:\\users\\erand\\appdata\\local\\programs\\python\\python310\\lib\\site-packages (from gradio) (3.1.4)\n",
      "Requirement already satisfied: markupsafe<4.0,>=2.0 in c:\\users\\erand\\appdata\\local\\programs\\python\\python310\\lib\\site-packages (from gradio) (3.0.2)\n",
      "Requirement already satisfied: numpy<3.0,>=1.0 in c:\\users\\erand\\appdata\\local\\programs\\python\\python310\\lib\\site-packages (from gradio) (1.24.3)\n",
      "Requirement already satisfied: orjson~=3.0 in c:\\users\\erand\\appdata\\local\\programs\\python\\python310\\lib\\site-packages (from gradio) (3.10.12)\n",
      "Requirement already satisfied: packaging in c:\\users\\erand\\appdata\\local\\programs\\python\\python310\\lib\\site-packages (from gradio) (24.1)\n",
      "Requirement already satisfied: pandas<3.0,>=1.0 in c:\\users\\erand\\appdata\\local\\programs\\python\\python310\\lib\\site-packages (from gradio) (2.2.3)\n",
      "Requirement already satisfied: pillow<12.0,>=8.0 in c:\\users\\erand\\appdata\\local\\programs\\python\\python310\\lib\\site-packages (from gradio) (11.0.0)\n",
      "Requirement already satisfied: pydantic<2.12,>=2.0 in c:\\users\\erand\\appdata\\local\\programs\\python\\python310\\lib\\site-packages (from gradio) (2.11.5)\n",
      "Requirement already satisfied: pydub in c:\\users\\erand\\appdata\\local\\programs\\python\\python310\\lib\\site-packages (from gradio) (0.25.1)\n",
      "Requirement already satisfied: python-multipart>=0.0.18 in c:\\users\\erand\\appdata\\local\\programs\\python\\python310\\lib\\site-packages (from gradio) (0.0.20)\n",
      "Requirement already satisfied: pyyaml<7.0,>=5.0 in c:\\users\\erand\\appdata\\local\\programs\\python\\python310\\lib\\site-packages (from gradio) (6.0.2)\n",
      "Requirement already satisfied: ruff>=0.9.3 in c:\\users\\erand\\appdata\\local\\programs\\python\\python310\\lib\\site-packages (from gradio) (0.12.0)\n",
      "Requirement already satisfied: safehttpx<0.2.0,>=0.1.6 in c:\\users\\erand\\appdata\\local\\programs\\python\\python310\\lib\\site-packages (from gradio) (0.1.6)\n",
      "Requirement already satisfied: semantic-version~=2.0 in c:\\users\\erand\\appdata\\local\\programs\\python\\python310\\lib\\site-packages (from gradio) (2.10.0)\n",
      "Requirement already satisfied: starlette<1.0,>=0.40.0 in c:\\users\\erand\\appdata\\local\\programs\\python\\python310\\lib\\site-packages (from gradio) (0.45.3)\n",
      "Requirement already satisfied: tomlkit<0.14.0,>=0.12.0 in c:\\users\\erand\\appdata\\local\\programs\\python\\python310\\lib\\site-packages (from gradio) (0.13.3)\n",
      "Requirement already satisfied: typer<1.0,>=0.12 in c:\\users\\erand\\appdata\\local\\programs\\python\\python310\\lib\\site-packages (from gradio) (0.16.0)\n",
      "Requirement already satisfied: typing-extensions~=4.0 in c:\\users\\erand\\appdata\\local\\programs\\python\\python310\\lib\\site-packages (from gradio) (4.12.2)\n",
      "Requirement already satisfied: uvicorn>=0.14.0 in c:\\users\\erand\\appdata\\local\\programs\\python\\python310\\lib\\site-packages (from gradio) (0.34.3)\n",
      "Requirement already satisfied: fsspec in c:\\users\\erand\\appdata\\local\\programs\\python\\python310\\lib\\site-packages (from gradio-client==1.10.3->gradio) (2024.10.0)\n",
      "Requirement already satisfied: websockets<16.0,>=10.0 in c:\\users\\erand\\appdata\\local\\programs\\python\\python310\\lib\\site-packages (from gradio-client==1.10.3->gradio) (15.0.1)\n",
      "Requirement already satisfied: exceptiongroup>=1.0.2 in c:\\users\\erand\\appdata\\roaming\\python\\python310\\site-packages (from anyio<5.0,>=3.0->gradio) (1.2.2)\n",
      "Requirement already satisfied: idna>=2.8 in c:\\users\\erand\\appdata\\local\\programs\\python\\python310\\lib\\site-packages (from anyio<5.0,>=3.0->gradio) (3.10)\n",
      "Requirement already satisfied: sniffio>=1.1 in c:\\users\\erand\\appdata\\local\\programs\\python\\python310\\lib\\site-packages (from anyio<5.0,>=3.0->gradio) (1.3.1)\n",
      "Requirement already satisfied: python-dateutil>=2.8.2 in c:\\users\\erand\\appdata\\local\\programs\\python\\python310\\lib\\site-packages (from pandas<3.0,>=1.0->gradio) (2.9.0.post0)\n",
      "Requirement already satisfied: pytz>=2020.1 in c:\\users\\erand\\appdata\\local\\programs\\python\\python310\\lib\\site-packages (from pandas<3.0,>=1.0->gradio) (2024.2)\n",
      "Requirement already satisfied: tzdata>=2022.7 in c:\\users\\erand\\appdata\\local\\programs\\python\\python310\\lib\\site-packages (from pandas<3.0,>=1.0->gradio) (2024.2)\n",
      "Requirement already satisfied: annotated-types>=0.6.0 in c:\\users\\erand\\appdata\\local\\programs\\python\\python310\\lib\\site-packages (from pydantic<2.12,>=2.0->gradio) (0.7.0)\n",
      "Requirement already satisfied: pydantic-core==2.33.2 in c:\\users\\erand\\appdata\\local\\programs\\python\\python310\\lib\\site-packages (from pydantic<2.12,>=2.0->gradio) (2.33.2)\n",
      "Requirement already satisfied: typing-inspection>=0.4.0 in c:\\users\\erand\\appdata\\local\\programs\\python\\python310\\lib\\site-packages (from pydantic<2.12,>=2.0->gradio) (0.4.1)\n",
      "Requirement already satisfied: click>=8.0.0 in c:\\users\\erand\\appdata\\local\\programs\\python\\python310\\lib\\site-packages (from typer<1.0,>=0.12->gradio) (8.1.7)\n",
      "Requirement already satisfied: shellingham>=1.3.0 in c:\\users\\erand\\appdata\\local\\programs\\python\\python310\\lib\\site-packages (from typer<1.0,>=0.12->gradio) (1.5.4)\n",
      "Requirement already satisfied: rich>=10.11.0 in c:\\users\\erand\\appdata\\local\\programs\\python\\python310\\lib\\site-packages (from typer<1.0,>=0.12->gradio) (13.9.4)\n",
      "Requirement already satisfied: audioread>=2.1.9 in c:\\users\\erand\\appdata\\local\\programs\\python\\python310\\lib\\site-packages (from librosa) (3.0.1)\n",
      "Requirement already satisfied: numba>=0.51.0 in c:\\users\\erand\\appdata\\local\\programs\\python\\python310\\lib\\site-packages (from librosa) (0.61.2)\n",
      "Requirement already satisfied: scipy>=1.6.0 in c:\\users\\erand\\appdata\\local\\programs\\python\\python310\\lib\\site-packages (from librosa) (1.14.1)\n",
      "Requirement already satisfied: scikit-learn>=1.1.0 in c:\\users\\erand\\appdata\\local\\programs\\python\\python310\\lib\\site-packages (from librosa) (1.6.0)\n",
      "Requirement already satisfied: joblib>=1.0 in c:\\users\\erand\\appdata\\local\\programs\\python\\python310\\lib\\site-packages (from librosa) (1.4.2)\n",
      "Requirement already satisfied: decorator>=4.3.0 in c:\\users\\erand\\appdata\\roaming\\python\\python310\\site-packages (from librosa) (5.1.1)\n",
      "Requirement already satisfied: soundfile>=0.12.1 in c:\\users\\erand\\appdata\\local\\programs\\python\\python310\\lib\\site-packages (from librosa) (0.13.1)\n",
      "Requirement already satisfied: pooch>=1.1 in c:\\users\\erand\\appdata\\local\\programs\\python\\python310\\lib\\site-packages (from librosa) (1.8.2)\n",
      "Requirement already satisfied: soxr>=0.3.2 in c:\\users\\erand\\appdata\\local\\programs\\python\\python310\\lib\\site-packages (from librosa) (0.5.0.post1)\n",
      "Requirement already satisfied: lazy_loader>=0.1 in c:\\users\\erand\\appdata\\local\\programs\\python\\python310\\lib\\site-packages (from librosa) (0.4)\n",
      "Requirement already satisfied: msgpack>=1.0 in c:\\users\\erand\\appdata\\local\\programs\\python\\python310\\lib\\site-packages (from librosa) (1.1.1)\n",
      "Requirement already satisfied: requests<3,>=2.27 in c:\\users\\erand\\appdata\\local\\programs\\python\\python310\\lib\\site-packages (from gTTS) (2.32.3)\n",
      "Requirement already satisfied: colorama in c:\\users\\erand\\appdata\\local\\programs\\python\\python310\\lib\\site-packages (from click>=8.0.0->typer<1.0,>=0.12->gradio) (0.4.6)\n",
      "Requirement already satisfied: charset-normalizer<4,>=2 in c:\\users\\erand\\appdata\\local\\programs\\python\\python310\\lib\\site-packages (from requests<3,>=2.27->gTTS) (3.4.0)\n",
      "Requirement already satisfied: urllib3<3,>=1.21.1 in c:\\users\\erand\\appdata\\local\\programs\\python\\python310\\lib\\site-packages (from requests<3,>=2.27->gTTS) (2.2.3)\n",
      "Requirement already satisfied: certifi>=2017.4.17 in c:\\users\\erand\\appdata\\local\\programs\\python\\python310\\lib\\site-packages (from requests<3,>=2.27->gTTS) (2024.8.30)\n",
      "Requirement already satisfied: filelock in c:\\users\\erand\\appdata\\local\\programs\\python\\python310\\lib\\site-packages (from transformers) (3.16.1)\n",
      "Requirement already satisfied: regex!=2019.12.17 in c:\\users\\erand\\appdata\\local\\programs\\python\\python310\\lib\\site-packages (from transformers) (2024.9.11)\n",
      "Requirement already satisfied: tokenizers<0.19,>=0.14 in c:\\users\\erand\\appdata\\local\\programs\\python\\python310\\lib\\site-packages (from transformers) (0.15.2)\n",
      "Requirement already satisfied: safetensors>=0.3.1 in c:\\users\\erand\\appdata\\local\\programs\\python\\python310\\lib\\site-packages (from transformers) (0.5.3)\n",
      "Requirement already satisfied: tqdm>=4.27 in c:\\users\\erand\\appdata\\local\\programs\\python\\python310\\lib\\site-packages (from transformers) (4.66.6)\n",
      "Requirement already satisfied: httpcore==1.* in c:\\users\\erand\\appdata\\local\\programs\\python\\python310\\lib\\site-packages (from httpx>=0.24.1->gradio) (1.0.7)\n",
      "Requirement already satisfied: h11<0.15,>=0.13 in c:\\users\\erand\\appdata\\local\\programs\\python\\python310\\lib\\site-packages (from httpcore==1.*->httpx>=0.24.1->gradio) (0.14.0)\n",
      "Requirement already satisfied: llvmlite<0.45,>=0.44.0dev0 in c:\\users\\erand\\appdata\\local\\programs\\python\\python310\\lib\\site-packages (from numba>=0.51.0->librosa) (0.44.0)\n",
      "Requirement already satisfied: platformdirs>=2.5.0 in c:\\users\\erand\\appdata\\roaming\\python\\python310\\site-packages (from pooch>=1.1->librosa) (4.3.6)\n",
      "Requirement already satisfied: six>=1.5 in c:\\users\\erand\\appdata\\local\\programs\\python\\python310\\lib\\site-packages (from python-dateutil>=2.8.2->pandas<3.0,>=1.0->gradio) (1.16.0)\n",
      "Requirement already satisfied: markdown-it-py>=2.2.0 in c:\\users\\erand\\appdata\\local\\programs\\python\\python310\\lib\\site-packages (from rich>=10.11.0->typer<1.0,>=0.12->gradio) (3.0.0)\n",
      "Requirement already satisfied: pygments<3.0.0,>=2.13.0 in c:\\users\\erand\\appdata\\local\\programs\\python\\python310\\lib\\site-packages (from rich>=10.11.0->typer<1.0,>=0.12->gradio) (2.18.0)\n",
      "Requirement already satisfied: mdurl~=0.1 in c:\\users\\erand\\appdata\\local\\programs\\python\\python310\\lib\\site-packages (from markdown-it-py>=2.2.0->rich>=10.11.0->typer<1.0,>=0.12->gradio) (0.1.2)\n",
      "Requirement already satisfied: threadpoolctl>=3.1.0 in c:\\users\\erand\\appdata\\local\\programs\\python\\python310\\lib\\site-packages (from scikit-learn>=1.1.0->librosa) (3.5.0)\n",
      "Requirement already satisfied: cffi>=1.0 in c:\\users\\erand\\appdata\\local\\programs\\python\\python310\\lib\\site-packages (from soundfile>=0.12.1->librosa) (1.17.1)\n",
      "Requirement already satisfied: pycparser in c:\\users\\erand\\appdata\\local\\programs\\python\\python310\\lib\\site-packages (from cffi>=1.0->soundfile>=0.12.1->librosa) (2.22)\n",
      "Downloading sentencepiece-0.2.0-cp310-cp310-win_amd64.whl (991 kB)\n",
      "   ---------------------------------------- 0.0/991.5 kB ? eta -:--:--\n",
      "   ------------------------------- -------- 786.4/991.5 kB 8.3 MB/s eta 0:00:01\n",
      "   ---------------------------------------- 991.5/991.5 kB 7.8 MB/s eta 0:00:00\n",
      "Installing collected packages: sentencepiece\n",
      "Successfully installed sentencepiece-0.2.0\n"
     ]
    }
   ],
   "source": [
    "!pip install gradio librosa gTTS transformers sentencepiece"
   ]
  },
  {
   "cell_type": "code",
   "execution_count": 7,
   "id": "732c6a2c",
   "metadata": {},
   "outputs": [],
   "source": [
    "import gradio as gr\n",
    "import numpy as np\n",
    "import librosa\n",
    "import os\n",
    "import uuid\n",
    "from gtts import gTTS\n",
    "from transformers import pipeline, AutoTokenizer, AutoModelForSeq2SeqLM"
   ]
  },
  {
   "cell_type": "code",
   "execution_count": 9,
   "id": "d4f92761",
   "metadata": {},
   "outputs": [
    {
     "name": "stderr",
     "output_type": "stream",
     "text": [
      "Special tokens have been added in the vocabulary, make sure the associated word embeddings are fine-tuned or trained.\n"
     ]
    },
    {
     "name": "stdout",
     "output_type": "stream",
     "text": [
      "Loading English-Sinhala model...\n",
      "Loading Singlish-English model...\n"
     ]
    },
    {
     "data": {
      "application/vnd.jupyter.widget-view+json": {
       "model_id": "96d795dfb8f746a680e78c45ee7910eb",
       "version_major": 2,
       "version_minor": 0
      },
      "text/plain": [
       "model.safetensors:  24%|##4       | 283M/1.17G [00:00<?, ?B/s]"
      ]
     },
     "metadata": {},
     "output_type": "display_data"
    },
    {
     "data": {
      "application/vnd.jupyter.widget-view+json": {
       "model_id": "3c79ba46f740408cac751a37e22040e3",
       "version_major": 2,
       "version_minor": 0
      },
      "text/plain": [
       "generation_config.json:   0%|          | 0.00/112 [00:00<?, ?B/s]"
      ]
     },
     "metadata": {},
     "output_type": "display_data"
    },
    {
     "data": {
      "application/vnd.jupyter.widget-view+json": {
       "model_id": "3eeda1aeea7f42d29630afc2f858d1bc",
       "version_major": 2,
       "version_minor": 0
      },
      "text/plain": [
       "tokenizer_config.json:   0%|          | 0.00/20.7k [00:00<?, ?B/s]"
      ]
     },
     "metadata": {},
     "output_type": "display_data"
    },
    {
     "data": {
      "application/vnd.jupyter.widget-view+json": {
       "model_id": "e2ddf781a6384a6c837991e5bc47ecf0",
       "version_major": 2,
       "version_minor": 0
      },
      "text/plain": [
       "spiece.model:   0%|          | 0.00/792k [00:00<?, ?B/s]"
      ]
     },
     "metadata": {},
     "output_type": "display_data"
    },
    {
     "data": {
      "application/vnd.jupyter.widget-view+json": {
       "model_id": "86a7815c01b1462c9c432cde404b0be9",
       "version_major": 2,
       "version_minor": 0
      },
      "text/plain": [
       "tokenizer.json:   0%|          | 0.00/2.42M [00:00<?, ?B/s]"
      ]
     },
     "metadata": {},
     "output_type": "display_data"
    },
    {
     "data": {
      "application/vnd.jupyter.widget-view+json": {
       "model_id": "391682f853fd46d5aa334b234d6bfbee",
       "version_major": 2,
       "version_minor": 0
      },
      "text/plain": [
       "special_tokens_map.json:   0%|          | 0.00/2.20k [00:00<?, ?B/s]"
      ]
     },
     "metadata": {},
     "output_type": "display_data"
    }
   ],
   "source": [
    "asr_pipeline = pipeline(\"automatic-speech-recognition\", model=\"openai/whisper-small\")\n",
    "\n",
    "print(\"Loading English-Sinhala model...\")\n",
    "sinhala_tokenizer = AutoTokenizer.from_pretrained(\"thilina/mt5-sinhalese-english\")\n",
    "sinhala_model = AutoModelForSeq2SeqLM.from_pretrained(\"thilina/mt5-sinhalese-english\")\n",
    "\n",
    "print(\"Loading Singlish-English model...\")\n",
    "singlish_pipe = pipeline(\"text2text-generation\", model=\"raqdo09/singlish-to-english-synthetic\")"
   ]
  },
  {
   "cell_type": "code",
   "execution_count": 10,
   "id": "277cee70",
   "metadata": {},
   "outputs": [],
   "source": [
    "def translate_english_to_sinhala(english_text):\n",
    "    \"\"\"Translate English text to Sinhala using mt5 model\"\"\"\n",
    "    try:\n",
    "        # Prefix for English to Sinhala translation\n",
    "        input_text = f\"translate English to Sinhala: {english_text}\"\n",
    "        inputs = sinhala_tokenizer(input_text, return_tensors=\"pt\", padding=True, truncation=True, max_length=512)\n",
    "        \n",
    "        # Generate translation\n",
    "        with sinhala_tokenizer.as_target_tokenizer():\n",
    "            outputs = sinhala_model.generate(\n",
    "                **inputs,\n",
    "                max_length=256,\n",
    "                num_beams=4,\n",
    "                do_sample=True,\n",
    "                temperature=0.7,\n",
    "                early_stopping=True\n",
    "            )\n",
    "        \n",
    "        sinhala_text = sinhala_tokenizer.decode(outputs[0], skip_special_tokens=True)\n",
    "        return sinhala_text\n",
    "    except Exception as e:\n",
    "        return f\"Translation error: {str(e)}\""
   ]
  },
  {
   "cell_type": "code",
   "execution_count": 11,
   "id": "af569f8b",
   "metadata": {},
   "outputs": [],
   "source": [
    "def translate_singlish_to_english(singlish_text):\n",
    "    \"\"\"Translate Singlish text to English using pipeline\"\"\"\n",
    "    try:\n",
    "        result = singlish_pipe(singlish_text, max_length=256, do_sample=True, temperature=0.7)\n",
    "        return result[0]['generated_text']\n",
    "    except Exception as e:\n",
    "        return f\"Translation error: {str(e)}\""
   ]
  },
  {
   "cell_type": "code",
   "execution_count": 12,
   "id": "dce514b2",
   "metadata": {},
   "outputs": [],
   "source": [
    "def process_english_to_sinhala_audio(file_path):\n",
    "    \"\"\"Process English audio and translate to Sinhala\"\"\"\n",
    "    try:\n",
    "        if file_path is None:\n",
    "            return None, None, None, \"Please upload an audio file\"\n",
    "        \n",
    "        # Load and process audio\n",
    "        audio_data, sr = librosa.load(file_path, sr=16000)\n",
    "        \n",
    "        # Speech recognition (Audio to English text)\n",
    "        result = asr_pipeline(audio_data.astype(np.float32))\n",
    "        english_text = result[\"text\"]\n",
    "        \n",
    "        if not english_text.strip():\n",
    "            return english_text, None, None, \"No speech detected in audio\"\n",
    "        \n",
    "        # Translation (English to Sinhala)\n",
    "        sinhala_text = translate_english_to_sinhala(english_text)\n",
    "        \n",
    "        # Note: gTTS doesn't support Sinhala directly\n",
    "        # You might need to use alternative TTS services for Sinhala\n",
    "        try:\n",
    "            output_filename = f\"sinhala_audio_{uuid.uuid4().hex}.mp3\"\n",
    "            tts = gTTS(text=sinhala_text, lang='si')  # 'si' for Sinhala\n",
    "            tts.save(output_filename)\n",
    "            status = \"Translation complete! (Note: Sinhala TTS may have limited support)\"\n",
    "        except:\n",
    "            output_filename = None\n",
    "            status = \"Translation complete! (Sinhala audio generation not supported by gTTS)\"\n",
    "        \n",
    "        return english_text, sinhala_text, output_filename, status\n",
    "        \n",
    "    except Exception as e:\n",
    "        return None, None, None, f\"Error: {str(e)}\""
   ]
  },
  {
   "cell_type": "code",
   "execution_count": 13,
   "id": "804fa0df",
   "metadata": {},
   "outputs": [],
   "source": [
    "def process_singlish_to_english_audio(file_path):\n",
    "    \"\"\"Process Singlish audio and translate to English\"\"\"\n",
    "    try:\n",
    "        if file_path is None:\n",
    "            return None, None, None, \"Please upload an audio file\"\n",
    "        \n",
    "        # Load and process audio\n",
    "        audio_data, sr = librosa.load(file_path, sr=16000)\n",
    "        \n",
    "        # Speech recognition (Audio to Singlish text)\n",
    "        result = asr_pipeline(audio_data.astype(np.float32))\n",
    "        singlish_text = result[\"text\"]\n",
    "        \n",
    "        if not singlish_text.strip():\n",
    "            return singlish_text, None, None, \"No speech detected in audio\"\n",
    "        \n",
    "        # Translation (Singlish to English)\n",
    "        english_text = translate_singlish_to_english(singlish_text)\n",
    "        \n",
    "        # Text-to-speech (English)\n",
    "        output_filename = f\"english_audio_{uuid.uuid4().hex}.mp3\"\n",
    "        tts = gTTS(text=english_text, lang='en')\n",
    "        tts.save(output_filename)\n",
    "        \n",
    "        return singlish_text, english_text, output_filename, \"Translation complete!\"\n",
    "        \n",
    "    except Exception as e:\n",
    "        return None, None, None, f\"Error: {str(e)}\""
   ]
  },
  {
   "cell_type": "code",
   "execution_count": 20,
   "id": "2df342b9",
   "metadata": {},
   "outputs": [
    {
     "name": "stdout",
     "output_type": "stream",
     "text": [
      "* Running on local URL:  http://127.0.0.1:7864\n",
      "* Running on public URL: https://347727ef64ff5fb604.gradio.live\n",
      "\n",
      "This share link expires in 1 week. For free permanent hosting and GPU upgrades, run `gradio deploy` from the terminal in the working directory to deploy to Hugging Face Spaces (https://huggingface.co/spaces)\n"
     ]
    },
    {
     "data": {
      "text/html": [
       "<div><iframe src=\"https://347727ef64ff5fb604.gradio.live\" width=\"100%\" height=\"500\" allow=\"autoplay; camera; microphone; clipboard-read; clipboard-write;\" frameborder=\"0\" allowfullscreen></iframe></div>"
      ],
      "text/plain": [
       "<IPython.core.display.HTML object>"
      ]
     },
     "metadata": {},
     "output_type": "display_data"
    },
    {
     "name": "stderr",
     "output_type": "stream",
     "text": [
      "c:\\Users\\erand\\AppData\\Local\\Programs\\Python\\Python310\\lib\\site-packages\\transformers\\tokenization_utils_base.py:3856: UserWarning: `as_target_tokenizer` is deprecated and will be removed in v5 of Transformers. You can tokenize your labels by using the argument `text_target` of the regular `__call__` method (either in the same call as your input texts if you use the same keyword arguments, or in a separate call.\n",
      "  warnings.warn(\n"
     ]
    }
   ],
   "source": [
    "with gr.Blocks(title=\"Multi-Language Speech Translator\") as app:\n",
    "    gr.Markdown(\"# Multi-Language Speech Translation App\")\n",
    "    gr.Markdown(\"Choose between English-to-Sinhala or Singlish-to-English translation\")\n",
    "    \n",
    "    with gr.Tabs():\n",
    "        # Tab 1: English to Sinhala\n",
    "        with gr.TabItem(\"English → Sinhala\"):\n",
    "            gr.Markdown(\"### Upload English audio to get Sinhala translation\")\n",
    "            \n",
    "            with gr.Row():\n",
    "                with gr.Column():\n",
    "                    en_file_input = gr.Audio(type=\"filepath\", label=\"Upload English Audio File\")\n",
    "                    en_translate_button = gr.Button(\"Translate to Sinhala\", variant=\"primary\")\n",
    "                \n",
    "                with gr.Column():\n",
    "                    en_original_text = gr.Textbox(label=\"English Transcription\", interactive=False)\n",
    "                    si_translated_text = gr.Textbox(label=\"Sinhala Translation\", interactive=False)\n",
    "                    si_audio_output = gr.Audio(label=\"Sinhala Audio Output\", type=\"filepath\")\n",
    "                    en_status_output = gr.Textbox(label=\"Status\", interactive=False)\n",
    "            \n",
    "            en_translate_button.click(\n",
    "                fn=process_english_to_sinhala_audio,\n",
    "                inputs=en_file_input,\n",
    "                outputs=[en_original_text, si_translated_text, si_audio_output, en_status_output]\n",
    "            )\n",
    "        \n",
    "        # Tab 2: Singlish to English\n",
    "        with gr.TabItem(\"Singlish → English\"):\n",
    "            gr.Markdown(\"### Upload Singlish audio to get proper English translation\")\n",
    "            \n",
    "            with gr.Row():\n",
    "                with gr.Column():\n",
    "                    sg_file_input = gr.Audio(type=\"filepath\", label=\"Upload Singlish Audio File\")\n",
    "                    sg_translate_button = gr.Button(\"Translate to English\", variant=\"primary\")\n",
    "                \n",
    "                with gr.Column():\n",
    "                    sg_original_text = gr.Textbox(label=\"Singlish Transcription\", interactive=False)\n",
    "                    en_translated_text = gr.Textbox(label=\"English Translation\", interactive=False)\n",
    "                    en_audio_output = gr.Audio(label=\"English Audio Output\", type=\"filepath\")\n",
    "                    sg_status_output = gr.Textbox(label=\"Status\", interactive=False)\n",
    "            \n",
    "            sg_translate_button.click(\n",
    "                fn=process_singlish_to_english_audio,\n",
    "                inputs=sg_file_input,\n",
    "                outputs=[sg_original_text, en_translated_text, en_audio_output, sg_status_output]\n",
    "            )\n",
    "\n",
    "# Launch the app\n",
    "if __name__ == \"__main__\":\n",
    "    app.launch(share=True)"
   ]
  }
 ],
 "metadata": {
  "kernelspec": {
   "display_name": "Python 3",
   "language": "python",
   "name": "python3"
  },
  "language_info": {
   "codemirror_mode": {
    "name": "ipython",
    "version": 3
   },
   "file_extension": ".py",
   "mimetype": "text/x-python",
   "name": "python",
   "nbconvert_exporter": "python",
   "pygments_lexer": "ipython3",
   "version": "3.10.7"
  }
 },
 "nbformat": 4,
 "nbformat_minor": 5
}
