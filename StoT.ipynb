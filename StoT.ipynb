{
 "cells": [
  {
   "cell_type": "code",
   "execution_count": 5,
   "id": "f1b633c7",
   "metadata": {},
   "outputs": [
    {
     "name": "stderr",
     "output_type": "stream",
     "text": [
      "c:\\Users\\erand\\AppData\\Local\\Programs\\Python\\Python310\\lib\\site-packages\\whisper\\__init__.py:69: UserWarning: C:\\Users\\erand\\.cache\\whisper\\base.pt exists, but the SHA256 checksum does not match; re-downloading the file\n",
      "  warnings.warn(\n",
      "100%|█████████████████████████████████████| 139M/139M [1:38:54<00:00, 24.5kiB/s]\n",
      "c:\\Users\\erand\\AppData\\Local\\Programs\\Python\\Python310\\lib\\site-packages\\whisper\\__init__.py:150: FutureWarning: You are using `torch.load` with `weights_only=False` (the current default value), which uses the default pickle module implicitly. It is possible to construct malicious pickle data which will execute arbitrary code during unpickling (See https://github.com/pytorch/pytorch/blob/main/SECURITY.md#untrusted-models for more details). In a future release, the default value for `weights_only` will be flipped to `True`. This limits the functions that could be executed during unpickling. Arbitrary objects will no longer be allowed to be loaded via this mode unless they are explicitly allowlisted by the user via `torch.serialization.add_safe_globals`. We recommend you start setting `weights_only=True` for any use case where you don't have full control of the loaded file. Please open an issue on GitHub for any issues related to this experimental feature.\n",
      "  checkpoint = torch.load(fp, map_location=device)\n"
     ]
    },
    {
     "name": "stdout",
     "output_type": "stream",
     "text": [
      "* Running on local URL:  http://127.0.0.1:7861\n",
      "* To create a public link, set `share=True` in `launch()`.\n"
     ]
    },
    {
     "data": {
      "text/html": [
       "<div><iframe src=\"http://127.0.0.1:7861/\" width=\"100%\" height=\"500\" allow=\"autoplay; camera; microphone; clipboard-read; clipboard-write;\" frameborder=\"0\" allowfullscreen></iframe></div>"
      ],
      "text/plain": [
       "<IPython.core.display.HTML object>"
      ]
     },
     "metadata": {},
     "output_type": "display_data"
    },
    {
     "data": {
      "text/plain": []
     },
     "execution_count": 5,
     "metadata": {},
     "output_type": "execute_result"
    }
   ],
   "source": [
    "import whisper\n",
    "import gradio as gr\n",
    "\n",
    "model = whisper.load_model(\"base\")\n",
    "\n",
    "def transcribe_audio(audio_file=None, mic_audio=None):\n",
    "    if mic_audio is not None:\n",
    "        audio = mic_audio\n",
    "    elif audio_file is not None:\n",
    "        audio = audio_file\n",
    "    else:\n",
    "        return \"No Audio Provided\"\n",
    "\n",
    "    result = model.transcribe(audio)\n",
    "    return result[\"text\"]\n",
    "\n",
    "with gr.Blocks(title= \"AI Speech to Text System\") as app:\n",
    "    gr.Markdown(\"AI Speech to Text\")\n",
    "    gr.Markdown(\"Upload an audio file or record from your microphone\")\n",
    "\n",
    "    with gr.Tab(\"Upload Audio\"):\n",
    "        file_input = gr.Audio(type=\"filepath\", label=\"Upload Audio File\")\n",
    "        file_output = gr.Textbox(label=\"Transcription\")\n",
    "        file_button = gr.Button(\"Transcribe\")\n",
    "\n",
    "    with gr.Tab(\"Record Audio\"):\n",
    "        mic_input = gr.Audio(type=\"filepath\", label=\"Speak Now\")\n",
    "        mic_output = gr.Textbox(label=\"Transcription\")\n",
    "        mic_button = gr.Button(\"Transcribe\")\n",
    "\n",
    "    file_button.click(transcribe_audio, inputs=file_input, outputs=file_output)\n",
    "    mic_button.click(transcribe_audio, inputs=mic_input, outputs=mic_output)\n",
    "\n",
    "app.launch()"
   ]
  }
 ],
 "metadata": {
  "kernelspec": {
   "display_name": "Python 3",
   "language": "python",
   "name": "python3"
  },
  "language_info": {
   "codemirror_mode": {
    "name": "ipython",
    "version": 3
   },
   "file_extension": ".py",
   "mimetype": "text/x-python",
   "name": "python",
   "nbconvert_exporter": "python",
   "pygments_lexer": "ipython3",
   "version": "3.10.7"
  }
 },
 "nbformat": 4,
 "nbformat_minor": 5
}
