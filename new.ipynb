{
 "cells": [
  {
   "cell_type": "code",
   "execution_count": null,
   "id": "c7b075f9-5cbf-4343-9a84-d26ba8bcc52e",
   "metadata": {},
   "outputs": [],
   "source": [
    "import openai\n",
    "\n",
    "# Set up your OpenAI API credentials\n",
    "openai.api_key = 'sk-...' #api key\n",
    "\n",
    "# Define the prompt for text generation\n",
    "prompt = \"A quick brown fox jumps\"\n",
    "\n",
    "# Make a request to GPT-3 for text generation\n",
    "response = openai.Completion.create(\n",
    "  engine=\"text-davinci-003\",\n",
    "  prompt=prompt,\n",
    "  max_tokens=100,\n",
    "  temperature=0.6\n",
    ")\n",
    "\n",
    "# Retrieve the generated text from the API response\n",
    "generated_text = response.choices[0].text\n",
    "\n",
    "# Print the generated text\n",
    "print(generated_text)\n"
   ]
  }
 ],
 "metadata": {
  "kernelspec": {
   "display_name": "Python (GPU)",
   "language": "python",
   "name": "test_env_gpu"
  },
  "language_info": {
   "codemirror_mode": {
    "name": "ipython",
    "version": 3
   },
   "file_extension": ".py",
   "mimetype": "text/x-python",
   "name": "python",
   "nbconvert_exporter": "python",
   "pygments_lexer": "ipython3",
   "version": "3.9.20"
  }
 },
 "nbformat": 4,
 "nbformat_minor": 5
}
