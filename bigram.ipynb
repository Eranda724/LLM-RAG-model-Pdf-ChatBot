{
 "cells": [
  {
   "cell_type": "code",
   "execution_count": null,
   "id": "8926bdda-a1c2-4b4f-8dc6-44d5467d6102",
   "metadata": {},
   "outputs": [],
   "source": [
    "with open('wizard_of_us.txt', 'r', encoding=\"utf\")"
   ]
  }
 ],
 "metadata": {
  "kernelspec": {
   "display_name": "Python (GPU)",
   "language": "python",
   "name": "test_env_gpu"
  },
  "language_info": {
   "codemirror_mode": {
    "name": "ipython",
    "version": 3
   },
   "file_extension": ".py",
   "mimetype": "text/x-python",
   "name": "python",
   "nbconvert_exporter": "python",
   "pygments_lexer": "ipython3",
   "version": "3.9.20"
  }
 },
 "nbformat": 4,
 "nbformat_minor": 5
}
